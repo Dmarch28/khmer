{
 "cells": [
  {
   "cell_type": "code",
   "execution_count": 78,
   "metadata": {},
   "outputs": [],
   "source": [
    "from khmer import Nodegraph"
   ]
  },
  {
   "cell_type": "code",
   "execution_count": 79,
   "metadata": {},
   "outputs": [
    {
     "name": "stdout",
     "output_type": "stream",
     "text": [
      "[0, 235, 90, 145, 27, 127, 0]\n",
      "[[0, 0, 0, 0, 0, 0, 0]]\n"
     ]
    }
   ],
   "source": [
    "ng = Nodegraph(3, 10, 1)\n",
    "print(ng.get_raw_tables()[0].tolist())\n",
    "print(fixed_raw(ng))"
   ]
  },
  {
   "cell_type": "code",
   "execution_count": 80,
   "metadata": {},
   "outputs": [
    {
     "name": "stdout",
     "output_type": "stream",
     "text": [
      "[1, 235, 90, 145, 27, 127, 0]\n",
      "[[0, 0, 0, 0, 0, 0, 1]]\n"
     ]
    }
   ],
   "source": [
    "ng.count('AAA')\n",
    "print(ng.get_raw_tables()[0].tolist())\n",
    "print(fixed_raw(ng))"
   ]
  },
  {
   "cell_type": "code",
   "execution_count": 81,
   "metadata": {},
   "outputs": [
    {
     "name": "stdout",
     "output_type": "stream",
     "text": [
      "[17, 235, 90, 145, 27, 127, 0]\n",
      "[[0, 0, 0, 0, 0, 0, 17]]\n"
     ]
    }
   ],
   "source": [
    "ng.count('CGC')\n",
    "print(ng.get_raw_tables()[0].tolist())\n",
    "print(fixed_raw(ng))"
   ]
  },
  {
   "cell_type": "code",
   "execution_count": 82,
   "metadata": {},
   "outputs": [
    {
     "data": {
      "text/plain": [
       "0.5"
      ]
     },
     "execution_count": 82,
     "metadata": {},
     "output_type": "execute_result"
    }
   ],
   "source": [
    "other_ng = Nodegraph(3, 10, 1)\n",
    "other_ng.count('AAA')\n",
    "ng.similarity(other_ng)"
   ]
  },
  {
   "cell_type": "code",
   "execution_count": 83,
   "metadata": {},
   "outputs": [
    {
     "name": "stdout",
     "output_type": "stream",
     "text": [
      "[1, 235, 90, 145, 27, 127, 0]\n",
      "[[0, 0, 0, 0, 0, 0, 1]]\n"
     ]
    }
   ],
   "source": [
    "print(other_ng.get_raw_tables()[0].tolist())\n",
    "print(fixed_raw(other_ng))"
   ]
  },
  {
   "cell_type": "code",
   "execution_count": 84,
   "metadata": {},
   "outputs": [
    {
     "name": "stdout",
     "output_type": "stream",
     "text": [
      "[17, 235, 90, 145, 27, 127, 0]\n",
      "[[0, 0, 0, 0, 0, 0, 17]]\n"
     ]
    }
   ],
   "source": [
    "print(ng.get_raw_tables()[0].tolist())\n",
    "print(fixed_raw(ng))"
   ]
  },
  {
   "cell_type": "code",
   "execution_count": 85,
   "metadata": {},
   "outputs": [],
   "source": [
    "def fixed_raw(ng):\n",
    "    raw_tables = ng.get_raw_tables()\n",
    "    new_raw_tables = []\n",
    "    for table in raw_tables:\n",
    "        counter = table[0]\n",
    "        new_table = []\n",
    "        for i in table:\n",
    "            new_table.append(counter >> i)\n",
    "        new_raw_tables.append(new_table)\n",
    "    return new_raw_tables"
   ]
  },
  {
   "cell_type": "code",
   "execution_count": 86,
   "metadata": {},
   "outputs": [],
   "source": [
    "def py_similarity(a, b):\n",
    "    a_tables = fixed_raw(a)\n",
    "    b_tables = fixed_raw(b)\n",
    "    \n",
    "    intersection = 0\n",
    "    union_size = 0\n",
    "    for i, (me, other) in enumerate(zip(a_tables, b_tables)):\n",
    "        for v, t in zip(me, other):\n",
    "            intersection += bin(v & t).count('1')\n",
    "            union_size += bin(v | t).count('1')\n",
    "            print(v, t, intersection, union_size)\n",
    "\n",
    "    if union_size == 0:\n",
    "        union_size = 1\n",
    "    \n",
    "    return intersection / union_size"
   ]
  },
  {
   "cell_type": "code",
   "execution_count": 87,
   "metadata": {},
   "outputs": [
    {
     "name": "stdout",
     "output_type": "stream",
     "text": [
      "0 0 0 0\n",
      "0 0 0 0\n",
      "0 0 0 0\n",
      "0 0 0 0\n",
      "0 0 0 0\n",
      "0 0 0 0\n",
      "17 1 1 2\n"
     ]
    },
    {
     "data": {
      "text/plain": [
       "0.5"
      ]
     },
     "execution_count": 87,
     "metadata": {},
     "output_type": "execute_result"
    }
   ],
   "source": [
    "py_similarity(ng, other_ng)"
   ]
  },
  {
   "cell_type": "code",
   "execution_count": 88,
   "metadata": {},
   "outputs": [],
   "source": [
    "def similarity(a, b):\n",
    "    return bin(a & b).count('1') / (bin(a | b).count('1') or 1)"
   ]
  },
  {
   "cell_type": "code",
   "execution_count": 89,
   "metadata": {},
   "outputs": [
    {
     "data": {
      "text/plain": [
       "0.0"
      ]
     },
     "execution_count": 89,
     "metadata": {},
     "output_type": "execute_result"
    }
   ],
   "source": [
    "similarity(0b0101,\n",
    "           0b1010)"
   ]
  },
  {
   "cell_type": "code",
   "execution_count": 90,
   "metadata": {},
   "outputs": [
    {
     "data": {
      "text/plain": [
       "0.0"
      ]
     },
     "execution_count": 90,
     "metadata": {},
     "output_type": "execute_result"
    }
   ],
   "source": [
    "similarity(0b0000,\n",
    "           0b0000)"
   ]
  },
  {
   "cell_type": "code",
   "execution_count": 91,
   "metadata": {},
   "outputs": [
    {
     "data": {
      "text/plain": [
       "0.0"
      ]
     },
     "execution_count": 91,
     "metadata": {},
     "output_type": "execute_result"
    }
   ],
   "source": [
    "similarity(0b0000,\n",
    "           0b0000)"
   ]
  },
  {
   "cell_type": "code",
   "execution_count": 92,
   "metadata": {},
   "outputs": [
    {
     "data": {
      "text/plain": [
       "1.0"
      ]
     },
     "execution_count": 92,
     "metadata": {},
     "output_type": "execute_result"
    }
   ],
   "source": [
    "similarity(0b1111,\n",
    "           0b1111)"
   ]
  },
  {
   "cell_type": "code",
   "execution_count": 93,
   "metadata": {},
   "outputs": [
    {
     "data": {
      "text/plain": [
       "0.5"
      ]
     },
     "execution_count": 93,
     "metadata": {},
     "output_type": "execute_result"
    }
   ],
   "source": [
    "similarity(0b1010,\n",
    "           0b1111)"
   ]
  },
  {
   "cell_type": "code",
   "execution_count": 94,
   "metadata": {},
   "outputs": [],
   "source": [
    "def containment(a, b):\n",
    "    return bin(a & b).count('1') / (bin(a).count('1') or 1)"
   ]
  },
  {
   "cell_type": "code",
   "execution_count": 95,
   "metadata": {},
   "outputs": [
    {
     "data": {
      "text/plain": [
       "0.0"
      ]
     },
     "execution_count": 95,
     "metadata": {},
     "output_type": "execute_result"
    }
   ],
   "source": [
    "containment(0b0101,\n",
    "            0b1010)"
   ]
  },
  {
   "cell_type": "code",
   "execution_count": 96,
   "metadata": {},
   "outputs": [
    {
     "data": {
      "text/plain": [
       "0.0"
      ]
     },
     "execution_count": 96,
     "metadata": {},
     "output_type": "execute_result"
    }
   ],
   "source": [
    "containment(0b0000,\n",
    "            0b0000)"
   ]
  },
  {
   "cell_type": "code",
   "execution_count": 97,
   "metadata": {},
   "outputs": [
    {
     "data": {
      "text/plain": [
       "0.0"
      ]
     },
     "execution_count": 97,
     "metadata": {},
     "output_type": "execute_result"
    }
   ],
   "source": [
    "containment(0b0000,\n",
    "            0b0000)"
   ]
  },
  {
   "cell_type": "code",
   "execution_count": 98,
   "metadata": {},
   "outputs": [
    {
     "data": {
      "text/plain": [
       "1.0"
      ]
     },
     "execution_count": 98,
     "metadata": {},
     "output_type": "execute_result"
    }
   ],
   "source": [
    "containment(0b1111,\n",
    "            0b1111)"
   ]
  },
  {
   "cell_type": "code",
   "execution_count": 99,
   "metadata": {},
   "outputs": [
    {
     "data": {
      "text/plain": [
       "1.0"
      ]
     },
     "execution_count": 99,
     "metadata": {},
     "output_type": "execute_result"
    }
   ],
   "source": [
    "containment(0b1010,\n",
    "            0b1111)"
   ]
  }
 ],
 "metadata": {
  "kernelspec": {
   "display_name": "Python 3",
   "language": "python",
   "name": "python3"
  },
  "language_info": {
   "codemirror_mode": {
    "name": "ipython",
    "version": 3
   },
   "file_extension": ".py",
   "mimetype": "text/x-python",
   "name": "python",
   "nbconvert_exporter": "python",
   "pygments_lexer": "ipython3",
   "version": "3.6.5"
  }
 },
 "nbformat": 4,
 "nbformat_minor": 2
}
